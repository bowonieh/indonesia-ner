{
 "cells": [
  {
   "cell_type": "code",
   "execution_count": 1,
   "id": "7ec1b6d2",
   "metadata": {},
   "outputs": [],
   "source": [
    "import nltk\n",
    "from nltk.tag.stanford import StanfordNERTagger\n"
   ]
  },
  {
   "cell_type": "code",
   "execution_count": 2,
   "id": "2a2bfe5f",
   "metadata": {},
   "outputs": [],
   "source": [
    "jar = \"./stanford-ner-4.2.0/stanford-ner-2020-11-17/stanford-ner.jar\"  # path of stanford-ner.jar\n",
    "model = \"./stanford-ner-4.2.0/stanford-ner-2020-11-17/classifiers/english.all.3class.distsim.crf.ser.gz\""
   ]
  },
  {
   "cell_type": "code",
   "execution_count": 4,
   "id": "941454be",
   "metadata": {},
   "outputs": [],
   "source": [
    "nlp = StanfordNERTagger(model,jar,encoding='utf8')\n",
    "text = \"\"\"The Kashmir Files is a 2022 Indian Hindi-language drama film, \\\n",
    "written and directed by Vivek Agnihotri. Produced by Zee Studios, \\\n",
    "the film is based on the exodus of Kashmiri Pandits during the Kashmir Insurgency, \\\n",
    "which it portrays as a genocide. \\\n",
    "It stars Anupam Kher, Darshan Kumar, Pallavi Joshi and Mithun Chakraborty.\"\"\"\n",
    "#Tokenize\n",
    "words = nltk.word_tokenize(text)"
   ]
  },
  {
   "cell_type": "code",
   "execution_count": 5,
   "id": "44465a68",
   "metadata": {},
   "outputs": [
    {
     "name": "stdout",
     "output_type": "stream",
     "text": [
      "('Kashmir', 'LOCATION')\n",
      "('Files', 'LOCATION')\n",
      "('Vivek', 'PERSON')\n",
      "('Agnihotri', 'PERSON')\n",
      "('Zee', 'ORGANIZATION')\n",
      "('Studios', 'ORGANIZATION')\n",
      "('Kashmir', 'LOCATION')\n",
      "('Insurgency', 'LOCATION')\n",
      "('Anupam', 'PERSON')\n",
      "('Kher', 'PERSON')\n",
      "('Darshan', 'PERSON')\n",
      "('Kumar', 'PERSON')\n",
      "('Pallavi', 'PERSON')\n",
      "('Joshi', 'PERSON')\n",
      "('Mithun', 'PERSON')\n",
      "('Chakraborty', 'PERSON')\n"
     ]
    }
   ],
   "source": [
    "for item in (nlp.tag(words)):\n",
    "    if(len(item[0])>1 and item[1]!='O'):\n",
    "        print(item)"
   ]
  },
  {
   "cell_type": "code",
   "execution_count": null,
   "id": "cd9f5c94",
   "metadata": {},
   "outputs": [],
   "source": []
  }
 ],
 "metadata": {
  "kernelspec": {
   "display_name": "Python 3 (ipykernel)",
   "language": "python",
   "name": "python3"
  },
  "language_info": {
   "codemirror_mode": {
    "name": "ipython",
    "version": 3
   },
   "file_extension": ".py",
   "mimetype": "text/x-python",
   "name": "python",
   "nbconvert_exporter": "python",
   "pygments_lexer": "ipython3",
   "version": "3.9.13"
  }
 },
 "nbformat": 4,
 "nbformat_minor": 5
}
