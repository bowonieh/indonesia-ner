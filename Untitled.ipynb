{
 "cells": [
  {
   "cell_type": "code",
   "execution_count": 1,
   "id": "2abcce0b",
   "metadata": {},
   "outputs": [],
   "source": [
    "import nltk\n",
    "from nltk.tag.stanford import StanfordNERTagger\n"
   ]
  },
  {
   "cell_type": "code",
   "execution_count": 2,
   "id": "5f7b73a4",
   "metadata": {},
   "outputs": [],
   "source": [
    "jar = \"./stanford-ner-4.2.0/stanford-ner-2020-11-17/stanford-ner.jar\"  # path of stanford-ner.jar\n",
    "model = \"./stanford-ner-4.2.0/stanford-ner-2020-11-17/classifiers/english.all.3class.distsim.crf.ser.gz\""
   ]
  },
  {
   "cell_type": "code",
   "execution_count": 6,
   "id": "e2e4604a",
   "metadata": {},
   "outputs": [],
   "source": [
    "nlp = StanfordNERTagger(model,jar,encoding='utf8')\n",
    "text = \"\"\"The Ghanaian midfielder was forced off at half-time in our last outing at Manchester City \\\n",
    "        with a rib injury, but thankfully Mikel revealed it isn’t something that will trouble us long-term.\\\n",
    "        Having admitted that Emile Smith Rowe is definitely out for this one, Arteta believes it remains to be \\\n",
    "        seen if Thomas will be available as we head to the blue half of Merseyside looking for our first win there \\\n",
    "        since 2017. Providing an update in his pre-match press conference, the boss said: “He’s not ruled out\"\"\"\n",
    "#Tokenize\n",
    "words = nltk.word_tokenize(text)"
   ]
  },
  {
   "cell_type": "code",
   "execution_count": 9,
   "id": "c3c5c5dc",
   "metadata": {},
   "outputs": [
    {
     "name": "stdout",
     "output_type": "stream",
     "text": [
      "('Manchester', 'LOCATION')\n",
      "('City', 'LOCATION')\n",
      "('Mikel', 'PERSON')\n",
      "('Emile', 'PERSON')\n",
      "('Smith', 'PERSON')\n",
      "('Rowe', 'PERSON')\n",
      "('Arteta', 'PERSON')\n",
      "('Thomas', 'PERSON')\n",
      "('Merseyside', 'LOCATION')\n"
     ]
    }
   ],
   "source": [
    "for item in (nlp.tag(words)):\n",
    "    #if(len(item[0])>1 and item[1]!='O'):\n",
    "    if(len(item[0])>1):\n",
    "        print(item)"
   ]
  },
  {
   "cell_type": "code",
   "execution_count": null,
   "id": "a421bcdf",
   "metadata": {},
   "outputs": [],
   "source": []
  }
 ],
 "metadata": {
  "kernelspec": {
   "display_name": "Python 3 (ipykernel)",
   "language": "python",
   "name": "python3"
  },
  "language_info": {
   "codemirror_mode": {
    "name": "ipython",
    "version": 3
   },
   "file_extension": ".py",
   "mimetype": "text/x-python",
   "name": "python",
   "nbconvert_exporter": "python",
   "pygments_lexer": "ipython3",
   "version": "3.9.13"
  }
 },
 "nbformat": 4,
 "nbformat_minor": 5
}
