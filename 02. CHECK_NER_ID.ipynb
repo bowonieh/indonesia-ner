{
 "cells": [
  {
   "cell_type": "code",
   "execution_count": null,
   "id": "acbd11b0",
   "metadata": {},
   "outputs": [],
   "source": [
    "#NLP NER dengan MODEL INDONESIA yang sudah disimpan\n",
    "import spacy\n",
    "from pathlib import Path\n",
    "model_dir = Path('nlp_id_checkpoint_2023_02_04')\n",
    "nlp = spacy.load(model_dir)"
   ]
  },
  {
   "cell_type": "code",
   "execution_count": null,
   "id": "21d3a78a",
   "metadata": {},
   "outputs": [],
   "source": []
  }
 ],
 "metadata": {
  "kernelspec": {
   "display_name": "Python 3 (ipykernel)",
   "language": "python",
   "name": "python3"
  },
  "language_info": {
   "codemirror_mode": {
    "name": "ipython",
    "version": 3
   },
   "file_extension": ".py",
   "mimetype": "text/x-python",
   "name": "python",
   "nbconvert_exporter": "python",
   "pygments_lexer": "ipython3",
   "version": "3.9.13"
  }
 },
 "nbformat": 4,
 "nbformat_minor": 5
}
